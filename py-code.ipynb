{
 "cells": [
  {
   "cell_type": "code",
   "execution_count": 7,
   "metadata": {},
   "outputs": [
    {
     "name": "stdout",
     "output_type": "stream",
     "text": [
      "Hello world!!\n"
     ]
    }
   ],
   "source": [
    "msg = \"Hello world!!\"\n",
    "print(msg)"
   ]
  },
  {
   "cell_type": "code",
   "execution_count": 2,
   "metadata": {},
   "outputs": [
    {
     "name": "stdout",
     "output_type": "stream",
     "text": [
      "False\n",
      "True\n"
     ]
    }
   ],
   "source": [
    "a = 5\n",
    "ab = 5\n",
    "x = 'WHello'\n",
    "xy = 'WHello'\n",
    "\n",
    "# Output: False\n",
    "print(a is not ab)\n",
    "\n",
    "# Output: True\n",
    "print(x is xy)"
   ]
  },
  {
   "cell_type": "code",
   "execution_count": 7,
   "metadata": {},
   "outputs": [
    {
     "name": "stdout",
     "output_type": "stream",
     "text": [
      "Hello World\n"
     ]
    },
    {
     "data": {
      "text/plain": [
       "'efe'"
      ]
     },
     "execution_count": 7,
     "metadata": {},
     "output_type": "execute_result"
    }
   ],
   "source": [
    "print('Hello World')\n",
    "input('This is hellow world')"
   ]
  },
  {
   "cell_type": "code",
   "execution_count": 8,
   "metadata": {},
   "outputs": [
    {
     "name": "stdout",
     "output_type": "stream",
     "text": [
      "<class 'str'>\n",
      "<class 'int'>\n",
      "<class 'float'>\n",
      "<class 'bool'>\n"
     ]
    }
   ],
   "source": [
    "print(type('hello'))\n",
    "print(type(1))\n",
    "print(type(1.64))\n",
    "print(type(True))\n"
   ]
  },
  {
   "cell_type": "code",
   "execution_count": 12,
   "metadata": {},
   "outputs": [
    {
     "name": "stdout",
     "output_type": "stream",
     "text": [
      "10\n",
      "(1, 2)\n",
      "(3,)\n"
     ]
    }
   ],
   "source": [
    "a=(10,1,2,3)\n",
    "print(a[0])\n",
    "print(a[1:3])\n",
    "print(a[-1:])"
   ]
  },
  {
   "cell_type": "code",
   "execution_count": 21,
   "metadata": {},
   "outputs": [
    {
     "name": "stdout",
     "output_type": "stream",
     "text": [
      "['mact', 'ctma', 'orange', 'Jain', 'kiwi', 'melon', 'mango']\n"
     ]
    }
   ],
   "source": [
    "thislist = [\"apple\", \"banana\", \"cherry\", \"orange\", \"kiwi\", \"melon\", \"mango\"]\n",
    "thislist[0] = \"Gemechu\"\n",
    "thislist[1:3] = [\"mact\", \"ctma\"]\n",
    "thislist.insert(4, \"Jain\")\n",
    "thislist.pop(0)\n",
    "print(thislist)"
   ]
  },
  {
   "cell_type": "code",
   "execution_count": 25,
   "metadata": {},
   "outputs": [
    {
     "name": "stdout",
     "output_type": "stream",
     "text": [
      "{'apple', 'cherry', 'banana'}\n",
      "{'apple', 'cherry', 'banana'}\n"
     ]
    }
   ],
   "source": [
    "thisset = {\"apple\", \"banana\", \"cherry\"}\n",
    "print(thisset)\n",
    "# print(thisset)"
   ]
  },
  {
   "cell_type": "code",
   "execution_count": 26,
   "metadata": {},
   "outputs": [
    {
     "name": "stdout",
     "output_type": "stream",
     "text": [
      "{'brand': 'Ford', 'model': 'Mustang', 'Year': 1964}\n"
     ]
    }
   ],
   "source": [
    "thisdict = {\n",
    "    \"brand\": \"Ford\",\n",
    "    \"model\": \"Mustang\",\n",
    "    \"Year\": 1964\n",
    "}\n",
    "print(thisdict) "
   ]
  },
  {
   "cell_type": "code",
   "execution_count": 34,
   "metadata": {},
   "outputs": [
    {
     "name": "stdout",
     "output_type": "stream",
     "text": [
      "Addition :  13\n",
      "7\n",
      "30\n",
      "3.3333333333333335\n",
      "3\n",
      "1\n",
      "1000\n",
      "Addition :  13\n",
      "Subtraction :  7\n",
      "Multiplication :  30\n",
      "Division (float) :  3.3333333333333335\n",
      "Division (floor) :  3\n",
      "Modulus :  1\n",
      "Exponent :  1000\n"
     ]
    }
   ],
   "source": [
    "a = 10\n",
    "b = 3\n",
    "print('Addition : ', a + b)\n",
    "print(a - b)\n",
    "print(a * b)\n",
    "print(a / b)\n",
    "print(a // b)\n",
    "print(a % b)\n",
    "print(a ** b)\n",
    "\n",
    "print('Addition : ', a + b)\n",
    "print('Subtraction : ', a - b)\n",
    "print('Multiplication : ', a * b)\n",
    "print('Division (float) : ', a / b)\n",
    "print('Division (floor) : ', a // b)\n",
    "print('Modulus : ', a % b)\n",
    "print('Exponent : ', a ** b)\n"
   ]
  },
  {
   "cell_type": "code",
   "execution_count": 35,
   "metadata": {},
   "outputs": [
    {
     "name": "stdout",
     "output_type": "stream",
     "text": [
      "Dear Terry,,\n",
      "You must cut down the mightiest \n",
      "tree in the forest with…\n",
      "a herring! <3\n"
     ]
    }
   ],
   "source": [
    "msg=\"\"\"Dear Terry,,\n",
    "You must cut down the mightiest \n",
    "tree in the forest with…\n",
    "a herring! <3\"\"\"\n",
    "print(msg)\n"
   ]
  },
  {
   "cell_type": "code",
   "execution_count": 41,
   "metadata": {},
   "outputs": [
    {
     "name": "stdout",
     "output_type": "stream",
     "text": [
      "Hello Gemechu! you are 23 years old.\n"
     ]
    }
   ],
   "source": [
    "name = input('Whats your name? : ')\n",
    "age = input('whats your age? : ')\n",
    "print('Hello ' + name + '! you are' + ' ' + age + ' ' + 'years old.')"
   ]
  },
  {
   "cell_type": "code",
   "execution_count": 42,
   "metadata": {},
   "outputs": [
    {
     "name": "stdout",
     "output_type": "stream",
     "text": [
      "16.0\n"
     ]
    }
   ],
   "source": [
    "num1 = input('Write a digit :')\n",
    "num2 = input('write a second digit :')\n",
    "answer=float(num1)+float(num2)\n",
    "print(answer) "
   ]
  },
  {
   "cell_type": "code",
   "execution_count": 53,
   "metadata": {},
   "outputs": [
    {
     "name": "stdout",
     "output_type": "stream",
     "text": [
      "3.00 kilometers is equal to 4.83 miles\n"
     ]
    }
   ],
   "source": [
    "# - Create a distance converter converting Km to miles\n",
    "# - Take two inputs from user: Their first name and the distance in km\n",
    "# - Print: Greet user by name and show km, and mile values\n",
    "# - 1 mile is 1.609 kilometers\n",
    "# - hint: use correct types for calculating and print\n",
    "# - Did you capitalize the name?\n",
    "\n",
    "name=input('first name')\n",
    "kilometers = float(input(\"Enter value in kilometers: \"))\n",
    "conv_fac = 1.609\n",
    "miles = kilometers * conv_fac\n",
    "print('%0.2f kilometers is equal to %0.2f miles' %(kilometers,miles))"
   ]
  },
  {
   "cell_type": "code",
   "execution_count": null,
   "metadata": {},
   "outputs": [],
   "source": [
    "# - Create a distance converter converting Km to miles\n",
    "# - Take two inputs from user: Their first name and the distance in km\n",
    "# - Print: Greet user by name and show km, and mile values\n",
    "# - 1 mile is 1.609 kilometers\n",
    "# - hint: use correct types for calculating and print\n",
    "# - Did you capitalize the name\n",
    "name = input('Enter your name: ')\n",
    "distance_km = input('Enter distance in km: ')\n",
    "distance_mi = float(distance_km)/1.609\n",
    "print(f'Hi {name.title()}! {distance_km}km is equivalent to {round(distance_mi,1)} miles.')"
   ]
  },
  {
   "cell_type": "code",
   "execution_count": 4,
   "metadata": {},
   "outputs": [
    {
     "name": "stdout",
     "output_type": "stream",
     "text": [
      "Leul\n",
      "Mintesnot Leul\n",
      "5\n",
      "1\n"
     ]
    }
   ],
   "source": [
    "friends=['Yohanes', 'Mintesnot', 'Tofu', 'Robel', 'Leul']\n",
    "print(friends[4])\n",
    "print(friends[1],friends[4])\n",
    "print(len(friends))\n",
    "print(friends.count('Tofu'))"
   ]
  }
 ],
 "metadata": {
  "kernelspec": {
   "display_name": "Python 3.10.7 64-bit",
   "language": "python",
   "name": "python3"
  },
  "language_info": {
   "codemirror_mode": {
    "name": "ipython",
    "version": 3
   },
   "file_extension": ".py",
   "mimetype": "text/x-python",
   "name": "python",
   "nbconvert_exporter": "python",
   "pygments_lexer": "ipython3",
   "version": "3.10.7"
  },
  "orig_nbformat": 4,
  "vscode": {
   "interpreter": {
    "hash": "aee8b7b246df8f9039afb4144a1f6fd8d2ca17a180786b69acc140d282b71a49"
   }
  }
 },
 "nbformat": 4,
 "nbformat_minor": 2
}
