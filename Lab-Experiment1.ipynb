{
 "cells": [
  {
   "cell_type": "code",
   "execution_count": 36,
   "metadata": {},
   "outputs": [
    {
     "name": "stdout",
     "output_type": "stream",
     "text": [
      "36 belongs to : <class 'int'>\n",
      "4.3 belongs to <class 'float'>\n",
      "False belongs to <class 'bool'>\n",
      "Python belongs to <class 'str'>\n",
      "[12, 'Gemechu', 0.5] belongs to <class 'list'>\n",
      "{3.5, 12, 'Gemechu'} belongs to <class 'set'>\n",
      "{'USN': '027', 'Name': 'Gemechu', 'Semester': '5'} belongs to <class 'dict'>\n",
      "(3, 'Gemechu', 7.4) belongs to <class 'tuple'>\n"
     ]
    }
   ],
   "source": [
    "# Vaialbles and there Data types!!\n",
    "a = 36\n",
    "b = 4.3\n",
    "c = False\n",
    "d = \"Python\"\n",
    "e = [12, \"Gemechu\", 0.5]\n",
    "f = {12, \"Gemechu\", 3.5}\n",
    "g = {\"USN\" : \"027\",\n",
    "     \"Name\" : \"Gemechu\",\n",
    "     \"Semester\" : \"5\"}\n",
    "h = (3, \"Gemechu\", 7.4)\n",
    "print(a, \"belongs to :\", type(a))\n",
    "print(b, \"belongs to\", type(b))\n",
    "print(c, \"belongs to\", type(c))\n",
    "print(d, \"belongs to\", type(d))\n",
    "print(e, \"belongs to\", type(e))\n",
    "print(f, \"belongs to\", type(f))\n",
    "print(g, \"belongs to\", type(g))\n",
    "print(h, \"belongs to\", type(h))\n",
    "\n"
   ]
  },
  {
   "cell_type": "code",
   "execution_count": 37,
   "metadata": {},
   "outputs": [
    {
     "name": "stdout",
     "output_type": "stream",
     "text": [
      "Before swapping: \n",
      "Value of x :  5  and y :  7\n",
      "After swapping: \n",
      "Value of x :  7  and y :  5\n"
     ]
    }
   ],
   "source": [
    "# Python code to swap two numbers\n",
    "# without using another variable\n",
    "\n",
    "x = 5\n",
    "y = 7\n",
    "\n",
    "print (\"Before swapping: \")\n",
    "print(\"Value of x : \", x, \" and y : \", y)\n",
    "\n",
    "# code to swap 'x' and 'y'\n",
    "x, y = y, x\n",
    "\n",
    "print (\"After swapping: \")\n",
    "print(\"Value of x : \", x, \" and y : \", y)"
   ]
  },
  {
   "cell_type": "code",
   "execution_count": 65,
   "metadata": {},
   "outputs": [
    {
     "ename": "TypeError",
     "evalue": "'tuple' object is not callable",
     "output_type": "error",
     "traceback": [
      "\u001b[0;31m---------------------------------------------------------------------------\u001b[0m",
      "\u001b[0;31mTypeError\u001b[0m                                 Traceback (most recent call last)",
      "Cell \u001b[0;32mIn [65], line 4\u001b[0m\n\u001b[1;32m      2\u001b[0m b \u001b[38;5;241m=\u001b[39m \u001b[38;5;28minput\u001b[39m (\u001b[38;5;124m\"\u001b[39m\u001b[38;5;124mEnter second number: \u001b[39m\u001b[38;5;124m\"\u001b[39m)\n\u001b[1;32m      3\u001b[0m \u001b[38;5;28msum\u001b[39m \u001b[38;5;241m=\u001b[39m \u001b[38;5;28mfloat\u001b[39m(a) \u001b[38;5;241m+\u001b[39m \u001b[38;5;28mfloat\u001b[39m(b)\n\u001b[0;32m----> 4\u001b[0m \u001b[38;5;28;43mprint\u001b[39;49m\u001b[43m(\u001b[49m\u001b[43ma\u001b[49m\u001b[43m,\u001b[49m\u001b[43m \u001b[49m\u001b[38;5;124;43m\"\u001b[39;49m\u001b[38;5;124;43m+\u001b[39;49m\u001b[38;5;124;43m\"\u001b[39;49m\u001b[43m,\u001b[49m\u001b[43m \u001b[49m\u001b[43mb\u001b[49m\u001b[43m,\u001b[49m\u001b[43m \u001b[49m\u001b[38;5;124;43m\"\u001b[39;49m\u001b[38;5;124;43m=\u001b[39;49m\u001b[38;5;124;43m\"\u001b[39;49m\u001b[43m,\u001b[49m\u001b[43m \u001b[49m\u001b[38;5;28;43msum\u001b[39;49m\u001b[43m)\u001b[49m\n",
      "\u001b[0;31mTypeError\u001b[0m: 'tuple' object is not callable"
     ]
    }
   ],
   "source": [
    "a = input (\"Enter first number: \")\n",
    "b = input (\"Enter second number: \")\n",
    "sum = float(a) + float(b)\n",
    "print(a, \"+\", b, \"=\", sum)"
   ]
  }
 ],
 "metadata": {
  "kernelspec": {
   "display_name": "Python 3.10.7 64-bit",
   "language": "python",
   "name": "python3"
  },
  "language_info": {
   "codemirror_mode": {
    "name": "ipython",
    "version": 3
   },
   "file_extension": ".py",
   "mimetype": "text/x-python",
   "name": "python",
   "nbconvert_exporter": "python",
   "pygments_lexer": "ipython3",
   "version": "3.10.7"
  },
  "orig_nbformat": 4,
  "vscode": {
   "interpreter": {
    "hash": "aee8b7b246df8f9039afb4144a1f6fd8d2ca17a180786b69acc140d282b71a49"
   }
  }
 },
 "nbformat": 4,
 "nbformat_minor": 2
}
